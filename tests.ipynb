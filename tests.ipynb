{
 "cells": [
  {
   "cell_type": "code",
   "execution_count": 7,
   "metadata": {},
   "outputs": [],
   "source": [
    "import os\n",
    "import tweepy\n",
    "\n",
    "from selenium import webdriver\n",
    "from webdriver_manager.chrome import ChromeDriverManager"
   ]
  },
  {
   "cell_type": "code",
   "execution_count": 8,
   "metadata": {},
   "outputs": [],
   "source": [
    "class BandecoBot:\n",
    "\n",
    "    def __init__(self, name):\n",
    "        self.name = name        \n",
    "        self.set_code_by_name()\n",
    "        url = f'https://uspdigital.usp.br/rucard/Jsp/cardapioSAS.jsp?codrtn={self.code}'\n",
    "\n",
    "        self.driver = webdriver.Chrome('/home/gabs/.wdm/drivers/chromedriver/80.0.3987.106/linux64/chromedriver')\n",
    "        self.driver.get(url)\n",
    "\n",
    "    def set_code_by_name(self):\n",
    "    \n",
    "        codes = {\n",
    "            'Central': 6,\n",
    "            'Química': 7,\n",
    "        }\n",
    "        \n",
    "        self.code = codes[self.name]\n",
    "\n",
    "    def get_menu(self, meal_time):\n",
    "\n",
    "        menu = self.driver.find_elements_by_id(meal_time)[0].text\n",
    "\n",
    "        return menu"
   ]
  },
  {
   "cell_type": "code",
   "execution_count": 9,
   "metadata": {},
   "outputs": [],
   "source": [
    "bot = BandecoBot('Central')"
   ]
  },
  {
   "cell_type": "code",
   "execution_count": 13,
   "metadata": {},
   "outputs": [],
   "source": [
    "menu = bot.get_menu('almocoSegunda')"
   ]
  },
  {
   "cell_type": "code",
   "execution_count": 14,
   "metadata": {},
   "outputs": [
    {
     "data": {
      "text/plain": [
       "'Arroz/feijão/arroz integral\\nLinguiça acebolada\\nOpção: PVT com cogumelos e azeitonas\\nVirado de vagem\\nSalada de alface\\nLaranja\\nMinipão/refresco'"
      ]
     },
     "execution_count": 14,
     "metadata": {},
     "output_type": "execute_result"
    }
   ],
   "source": [
    "menu"
   ]
  },
  {
   "cell_type": "code",
   "execution_count": null,
   "metadata": {},
   "outputs": [],
   "source": [
    "# Authenticate to Twitter\n",
    "auth = tweepy.OAuthHandler(os.environ['CONSUMER_KEY'], os.environ['CONSUMER_SECRET'])\n",
    "auth.set_access_token(os.environ['ACCESS_TOKEN'], os.environ['ACCESS_TOKEN_SECRET'])"
   ]
  },
  {
   "cell_type": "code",
   "execution_count": 8,
   "metadata": {},
   "outputs": [],
   "source": [
    "# Create API object\n",
    "api = tweepy.API(auth)"
   ]
  },
  {
   "cell_type": "code",
   "execution_count": null,
   "metadata": {},
   "outputs": [],
   "source": [
    "# Create a tweet\n",
    "api.update_status(menu)"
   ]
  }
 ],
 "metadata": {
  "kernelspec": {
   "display_name": "Python 3",
   "language": "python",
   "name": "python3"
  },
  "language_info": {
   "codemirror_mode": {
    "name": "ipython",
    "version": 3
   },
   "file_extension": ".py",
   "mimetype": "text/x-python",
   "name": "python",
   "nbconvert_exporter": "python",
   "pygments_lexer": "ipython3",
   "version": "3.7.4"
  }
 },
 "nbformat": 4,
 "nbformat_minor": 4
}

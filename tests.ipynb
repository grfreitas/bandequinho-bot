{
 "cells": [
  {
   "cell_type": "code",
   "execution_count": 1,
   "metadata": {},
   "outputs": [],
   "source": [
    "import os\n",
    "import tweepy\n",
    "\n",
    "from selenium import webdriver\n",
    "from webdriver_manager.chrome import ChromeDriverManager"
   ]
  },
  {
   "cell_type": "code",
   "execution_count": 2,
   "metadata": {},
   "outputs": [],
   "source": [
    "class BandecoBot:\n",
    "\n",
    "    def __init__(self, name):\n",
    "        self.name = name        \n",
    "        self.set_code_by_name()\n",
    "        url = f'https://uspdigital.usp.br/rucard/Jsp/cardapioSAS.jsp?codrtn={self.code}'\n",
    "\n",
    "        self.driver = webdriver.Chrome('/home/gabs/.wdm/drivers/chromedriver/80.0.3987.106/linux64/chromedriver')\n",
    "        self.driver.get(url)\n",
    "\n",
    "    def set_code_by_name(self):\n",
    "    \n",
    "        codes = {\n",
    "            'Central': 6,\n",
    "            'Química': 7,\n",
    "        }\n",
    "        \n",
    "        self.code = codes[self.name]\n",
    "\n",
    "    def get_menu(self, meal_time):\n",
    "\n",
    "        menu = self.driver.find_elements_by_id(meal_time)[0].text\n",
    "\n",
    "        return menu"
   ]
  },
  {
   "cell_type": "code",
   "execution_count": 3,
   "metadata": {},
   "outputs": [],
   "source": [
    "bot = BandecoBot('Central')"
   ]
  },
  {
   "cell_type": "code",
   "execution_count": 4,
   "metadata": {},
   "outputs": [
    {
     "data": {
      "text/plain": [
       "'Arroz/feijão/arroz integral\\nLinguiça acebolada\\nOpção: PVT com cogumelos e azeitonas\\nVirado de vagem\\nSalada de alface\\nLaranja\\nMinipão/refresco'"
      ]
     },
     "execution_count": 4,
     "metadata": {},
     "output_type": "execute_result"
    }
   ],
   "source": [
    "bot.get_menu('almocoSegunda')"
   ]
  },
  {
   "cell_type": "code",
   "execution_count": null,
   "metadata": {},
   "outputs": [],
   "source": []
  }
 ],
 "metadata": {
  "kernelspec": {
   "display_name": "Python 3",
   "language": "python",
   "name": "python3"
  },
  "language_info": {
   "codemirror_mode": {
    "name": "ipython",
    "version": 3
   },
   "file_extension": ".py",
   "mimetype": "text/x-python",
   "name": "python",
   "nbconvert_exporter": "python",
   "pygments_lexer": "ipython3",
   "version": "3.7.4"
  }
 },
 "nbformat": 4,
 "nbformat_minor": 4
}
